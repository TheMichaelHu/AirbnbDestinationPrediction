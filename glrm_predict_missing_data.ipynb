{
 "cells": [
  {
   "cell_type": "code",
   "execution_count": 1,
   "metadata": {},
   "outputs": [
    {
     "ename": "LoadError",
     "evalue": "ArgumentError: DataFrames not found in path",
     "output_type": "error",
     "traceback": [
      "ArgumentError: DataFrames not found in path",
      ""
     ]
    }
   ],
   "source": [
    "using DataFrames, LowRankModels"
   ]
  },
  {
   "cell_type": "code",
   "execution_count": 2,
   "metadata": {},
   "outputs": [
    {
     "ename": "LoadError",
     "evalue": "UndefVarError: readtable not defined",
     "output_type": "error",
     "traceback": [
      "UndefVarError: readtable not defined",
      ""
     ]
    }
   ],
   "source": [
    "data = readtable(\"missing_data.csv\", separator = ',')"
   ]
  },
  {
   "cell_type": "code",
   "execution_count": 3,
   "metadata": {},
   "outputs": [
    {
     "ename": "LoadError",
     "evalue": "UndefVarError: readtable not defined",
     "output_type": "error",
     "traceback": [
      "UndefVarError: readtable not defined",
      ""
     ]
    }
   ],
   "source": [
    "obs = readtable(\"obs.csv\", separator = ',', header = false)\n",
    "head(obs)"
   ]
  },
  {
   "cell_type": "code",
   "execution_count": 4,
   "metadata": {},
   "outputs": [
    {
     "ename": "LoadError",
     "evalue": "UndefVarError: obs not defined",
     "output_type": "error",
     "traceback": [
      "UndefVarError: obs not defined",
      "",
      " in anonymous at ./no file:4294967295"
     ]
    }
   ],
   "source": [
    "Ω = Tuple{Int64,Int64}[]\n",
    "for i in 1:size(obs, 1)\n",
    "    push!(Ω, (obs[i, 1] + 1, obs[i, 2] + 1))\n",
    "end"
   ]
  },
  {
   "cell_type": "code",
   "execution_count": 5,
   "metadata": {},
   "outputs": [
    {
     "ename": "LoadError",
     "evalue": "UndefVarError: HuberLoss not defined",
     "output_type": "error",
     "traceback": [
      "UndefVarError: HuberLoss not defined",
      ""
     ]
    }
   ],
   "source": [
    "loss = HuberLoss()\n",
    "nonneg = NonNegConstraint()\n",
    "k = 10\n",
    "glrm = GLRM(data, loss, nonneg, nonneg, k, obs=Ω);\n",
    "\n",
    "# fit model\n",
    "X,W,ch = fit!(glrm)\n",
    "\n",
    "# predict Ahat\n",
    "Ahat = X'*W"
   ]
  },
  {
   "cell_type": "code",
   "execution_count": 6,
   "metadata": {},
   "outputs": [
    {
     "ename": "LoadError",
     "evalue": "UndefVarError: DataFrame not defined",
     "output_type": "error",
     "traceback": [
      "UndefVarError: DataFrame not defined",
      ""
     ]
    }
   ],
   "source": [
    "df = convert(DataFrame, Ahat)"
   ]
  },
  {
   "cell_type": "code",
   "execution_count": 7,
   "metadata": {},
   "outputs": [
    {
     "ename": "LoadError",
     "evalue": "UndefVarError: writetable not defined",
     "output_type": "error",
     "traceback": [
      "UndefVarError: writetable not defined",
      ""
     ]
    }
   ],
   "source": [
    "writetable(\"glrm_results.csv\",df)"
   ]
  },
  {
   "cell_type": "code",
   "execution_count": null,
   "metadata": {
    "collapsed": true
   },
   "outputs": [],
   "source": []
  }
 ],
 "metadata": {
  "kernelspec": {
   "display_name": "Julia 0.4.5",
   "language": "julia",
   "name": "julia-0.4"
  },
  "language_info": {
   "file_extension": ".jl",
   "mimetype": "application/julia",
   "name": "julia",
   "version": "0.4.5"
  }
 },
 "nbformat": 4,
 "nbformat_minor": 2
}
